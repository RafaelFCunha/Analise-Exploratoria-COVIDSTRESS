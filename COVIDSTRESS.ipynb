{
 "cells": [
  {
   "cell_type": "markdown",
   "metadata": {},
   "source": [
    "## Análise exploratória utilizando base de dados do COVIDSTRESS Turma: 1TDSA\n",
    "- **Nome:** Rafael Fernandes Cunha      **RM:** 88687\n"
   ]
  },
  {
   "cell_type": "code",
   "execution_count": 1,
   "metadata": {},
   "outputs": [],
   "source": [
    "import pandas as pd #Biblioteca para fazer análises de dados"
   ]
  },
  {
   "cell_type": "code",
   "execution_count": 2,
   "metadata": {},
   "outputs": [],
   "source": [
    "import warnings\n",
    "warnings.filterwarnings('ignore')  #Esta biblioteca serve para remover possiveís avisos que o python ou outras bibliotecas podem causar."
   ]
  },
  {
   "cell_type": "code",
   "execution_count": 44,
   "metadata": {},
   "outputs": [],
   "source": [
    "import matplotlib.pyplot as plt  # Para trabalhar com gráficos\n",
    "import seaborn as sns"
   ]
  },
  {
   "cell_type": "code",
   "execution_count": 4,
   "metadata": {},
   "outputs": [],
   "source": [
    "dados = pd.read_csv('COVIDiSTRESS_June_17.csv', sep=';' ,engine='python') # Estamos carregando o arquivo csv usando o ; como separador e usando a engine do python para conseguir converter o arquivo no formato UTF-8"
   ]
  },
  {
   "cell_type": "code",
   "execution_count": 15,
   "metadata": {},
   "outputs": [
    {
     "data": {
      "text/html": [
       "<div>\n",
       "<style scoped>\n",
       "    .dataframe tbody tr th:only-of-type {\n",
       "        vertical-align: middle;\n",
       "    }\n",
       "\n",
       "    .dataframe tbody tr th {\n",
       "        vertical-align: top;\n",
       "    }\n",
       "\n",
       "    .dataframe thead th {\n",
       "        text-align: right;\n",
       "    }\n",
       "</style>\n",
       "<table border=\"1\" class=\"dataframe\">\n",
       "  <thead>\n",
       "    <tr style=\"text-align: right;\">\n",
       "      <th></th>\n",
       "      <th>RecordedDate</th>\n",
       "      <th>Dem_age</th>\n",
       "      <th>Dem_gender</th>\n",
       "      <th>Dem_edu</th>\n",
       "      <th>Dem_employment</th>\n",
       "      <th>Country</th>\n",
       "      <th>Dem_state</th>\n",
       "      <th>Dem_maritalstatus</th>\n",
       "      <th>Dem_riskgroup</th>\n",
       "      <th>Dem_islolation</th>\n",
       "      <th>Dem_isolation_adults</th>\n",
       "      <th>Dem_isolation_kids</th>\n",
       "      <th>Scale_PSS10_UCLA_1</th>\n",
       "      <th>Scale_SLON_3</th>\n",
       "      <th>PSS10_avg</th>\n",
       "      <th>SLON3_avg</th>\n",
       "    </tr>\n",
       "  </thead>\n",
       "  <tbody>\n",
       "    <tr>\n",
       "      <th>0</th>\n",
       "      <td>17/06/2020 01:01</td>\n",
       "      <td>48</td>\n",
       "      <td>Female</td>\n",
       "      <td>College degree, bachelor, master</td>\n",
       "      <td>Full time employed</td>\n",
       "      <td>Netherlands</td>\n",
       "      <td>Zuid-Holland</td>\n",
       "      <td>Married/cohabiting</td>\n",
       "      <td>Yes</td>\n",
       "      <td>Isolated</td>\n",
       "      <td>1.0</td>\n",
       "      <td>0.0</td>\n",
       "      <td>2.0</td>\n",
       "      <td>3.0</td>\n",
       "      <td>2.4</td>\n",
       "      <td>2.666667</td>\n",
       "    </tr>\n",
       "    <tr>\n",
       "      <th>1</th>\n",
       "      <td>16/06/2020 23:19</td>\n",
       "      <td>36</td>\n",
       "      <td>Female</td>\n",
       "      <td>College degree, bachelor, master</td>\n",
       "      <td>Full time employed</td>\n",
       "      <td>Poland</td>\n",
       "      <td>Slaskie</td>\n",
       "      <td>Married/cohabiting</td>\n",
       "      <td>Yes</td>\n",
       "      <td>Life carries on as usual</td>\n",
       "      <td>1.0</td>\n",
       "      <td>2.0</td>\n",
       "      <td>2.0</td>\n",
       "      <td>1.0</td>\n",
       "      <td>1.7</td>\n",
       "      <td>1.000000</td>\n",
       "    </tr>\n",
       "    <tr>\n",
       "      <th>2</th>\n",
       "      <td>16/06/2020 22:47</td>\n",
       "      <td>45</td>\n",
       "      <td>Female</td>\n",
       "      <td>College degree, bachelor, master</td>\n",
       "      <td>Full time employed</td>\n",
       "      <td>Finland</td>\n",
       "      <td>North Karelia</td>\n",
       "      <td>Married/cohabiting</td>\n",
       "      <td>Yes</td>\n",
       "      <td>Life carries on with minor changes</td>\n",
       "      <td>1.0</td>\n",
       "      <td>2.0</td>\n",
       "      <td>2.0</td>\n",
       "      <td>3.0</td>\n",
       "      <td>1.7</td>\n",
       "      <td>2.000000</td>\n",
       "    </tr>\n",
       "    <tr>\n",
       "      <th>3</th>\n",
       "      <td>16/06/2020 22:02</td>\n",
       "      <td>35</td>\n",
       "      <td>Female</td>\n",
       "      <td>PhD/Doctorate</td>\n",
       "      <td>Self-employed</td>\n",
       "      <td>Mexico</td>\n",
       "      <td>Estado de Mexico</td>\n",
       "      <td>Married/cohabiting</td>\n",
       "      <td>Yes</td>\n",
       "      <td>Isolated</td>\n",
       "      <td>1.0</td>\n",
       "      <td>2.0</td>\n",
       "      <td>4.0</td>\n",
       "      <td>2.0</td>\n",
       "      <td>2.9</td>\n",
       "      <td>1.333333</td>\n",
       "    </tr>\n",
       "    <tr>\n",
       "      <th>4</th>\n",
       "      <td>16/06/2020 21:11</td>\n",
       "      <td>46</td>\n",
       "      <td>Female</td>\n",
       "      <td>College degree, bachelor, master</td>\n",
       "      <td>Full time employed</td>\n",
       "      <td>Mexico</td>\n",
       "      <td>Ciudad de México</td>\n",
       "      <td>Married/cohabiting</td>\n",
       "      <td>Yes</td>\n",
       "      <td>Isolated</td>\n",
       "      <td>1.0</td>\n",
       "      <td>2.0</td>\n",
       "      <td>3.0</td>\n",
       "      <td>3.0</td>\n",
       "      <td>2.8</td>\n",
       "      <td>2.333333</td>\n",
       "    </tr>\n",
       "  </tbody>\n",
       "</table>\n",
       "</div>"
      ],
      "text/plain": [
       "       RecordedDate  Dem_age Dem_gender                           Dem_edu  \\\n",
       "0  17/06/2020 01:01       48     Female  College degree, bachelor, master   \n",
       "1  16/06/2020 23:19       36     Female  College degree, bachelor, master   \n",
       "2  16/06/2020 22:47       45     Female  College degree, bachelor, master   \n",
       "3  16/06/2020 22:02       35     Female                     PhD/Doctorate   \n",
       "4  16/06/2020 21:11       46     Female  College degree, bachelor, master   \n",
       "\n",
       "       Dem_employment      Country         Dem_state   Dem_maritalstatus  \\\n",
       "0  Full time employed  Netherlands      Zuid-Holland  Married/cohabiting   \n",
       "1  Full time employed       Poland           Slaskie  Married/cohabiting   \n",
       "2  Full time employed      Finland     North Karelia  Married/cohabiting   \n",
       "3       Self-employed       Mexico  Estado de Mexico  Married/cohabiting   \n",
       "4  Full time employed       Mexico  Ciudad de México  Married/cohabiting   \n",
       "\n",
       "  Dem_riskgroup                      Dem_islolation  Dem_isolation_adults  \\\n",
       "0           Yes                            Isolated                   1.0   \n",
       "1           Yes            Life carries on as usual                   1.0   \n",
       "2           Yes  Life carries on with minor changes                   1.0   \n",
       "3           Yes                            Isolated                   1.0   \n",
       "4           Yes                            Isolated                   1.0   \n",
       "\n",
       "   Dem_isolation_kids  Scale_PSS10_UCLA_1  Scale_SLON_3  PSS10_avg  SLON3_avg  \n",
       "0                 0.0                 2.0           3.0        2.4   2.666667  \n",
       "1                 2.0                 2.0           1.0        1.7   1.000000  \n",
       "2                 2.0                 2.0           3.0        1.7   2.000000  \n",
       "3                 2.0                 4.0           2.0        2.9   1.333333  \n",
       "4                 2.0                 3.0           3.0        2.8   2.333333  "
      ]
     },
     "execution_count": 15,
     "metadata": {},
     "output_type": "execute_result"
    }
   ],
   "source": [
    "dados.head(5) #Verificando se os dados foram carregados"
   ]
  },
  {
   "cell_type": "markdown",
   "metadata": {},
   "source": [
    "Análise exploratória\n",
    "="
   ]
  },
  {
   "cell_type": "code",
   "execution_count": 57,
   "metadata": {},
   "outputs": [
    {
     "data": {
      "text/plain": [
       "RecordedDate                0\n",
       "Dem_age                     0\n",
       "Dem_gender                310\n",
       "Dem_edu                   858\n",
       "Dem_employment           1152\n",
       "Country                   558\n",
       "Dem_state               13634\n",
       "Dem_maritalstatus        1035\n",
       "Dem_riskgroup             629\n",
       "Dem_islolation           1821\n",
       "Dem_isolation_adults    21551\n",
       "Dem_isolation_kids      23283\n",
       "Scale_PSS10_UCLA_1      10216\n",
       "Scale_SLON_3            10308\n",
       "PSS10_avg                9356\n",
       "SLON3_avg                9607\n",
       "dtype: int64"
      ]
     },
     "execution_count": 57,
     "metadata": {},
     "output_type": "execute_result"
    }
   ],
   "source": [
    "dados.isnull().sum() #Verificando se existem dados nulos nas colunas que vamos analisar"
   ]
  },
  {
   "cell_type": "code",
   "execution_count": 32,
   "metadata": {},
   "outputs": [],
   "source": [
    "# Excluindo desse meu conjunto de colunas selecionadas as linhas que tem algum valor nulo\n",
    "dados_sem_nulo = dados.dropna()"
   ]
  },
  {
   "cell_type": "code",
   "execution_count": 55,
   "metadata": {},
   "outputs": [],
   "source": [
    "dados_genero_limpo = dados.dropna(subset=['Dem_gender']) #Limpando dados nulos (N/A) na coluna de genero"
   ]
  },
  {
   "cell_type": "code",
   "execution_count": 33,
   "metadata": {},
   "outputs": [
    {
     "name": "stdout",
     "output_type": "stream",
     "text": [
      "<class 'pandas.core.frame.DataFrame'>\n",
      "Int64Index: 83060 entries, 0 to 126400\n",
      "Data columns (total 16 columns):\n",
      " #   Column                Non-Null Count  Dtype  \n",
      "---  ------                --------------  -----  \n",
      " 0   RecordedDate          83060 non-null  object \n",
      " 1   Dem_age               83060 non-null  int64  \n",
      " 2   Dem_gender            83060 non-null  object \n",
      " 3   Dem_edu               83060 non-null  object \n",
      " 4   Dem_employment        83060 non-null  object \n",
      " 5   Country               83060 non-null  object \n",
      " 6   Dem_state             83060 non-null  object \n",
      " 7   Dem_maritalstatus     83060 non-null  object \n",
      " 8   Dem_riskgroup         83060 non-null  object \n",
      " 9   Dem_islolation        83060 non-null  object \n",
      " 10  Dem_isolation_adults  83060 non-null  float64\n",
      " 11  Dem_isolation_kids    83060 non-null  float64\n",
      " 12  Scale_PSS10_UCLA_1    83060 non-null  float64\n",
      " 13  Scale_SLON_3          83060 non-null  float64\n",
      " 14  PSS10_avg             83060 non-null  float64\n",
      " 15  SLON3_avg             83060 non-null  float64\n",
      "dtypes: float64(6), int64(1), object(9)\n",
      "memory usage: 10.8+ MB\n"
     ]
    }
   ],
   "source": [
    "dados_sem_nulo.info() #verificando como ficou após limpar os valores nulo"
   ]
  },
  {
   "cell_type": "markdown",
   "metadata": {},
   "source": [
    "Gráfico boxplot entre idade e escala UCLA\n",
    "="
   ]
  },
  {
   "cell_type": "code",
   "execution_count": 68,
   "metadata": {},
   "outputs": [],
   "source": [
    "#configurando o gráfico para deixar mais legível\n",
    "from matplotlib import rcParams\n",
    "%matplotlib inline\n",
    "rcParams['figure.figsize'] = 20, 8\n",
    "sns.set_style('whitegrid')"
   ]
  },
  {
   "cell_type": "code",
   "execution_count": 62,
   "metadata": {},
   "outputs": [
    {
     "data": {
      "text/plain": [
       "<AxesSubplot:xlabel='Dem_age', ylabel='Scale_PSS10_UCLA_1'>"
      ]
     },
     "execution_count": 62,
     "metadata": {},
     "output_type": "execute_result"
    },
    {
     "data": {
      "image/png": "[encoded data removed]",
      "text/plain": [
       "<Figure size 1440x576 with 1 Axes>"
      ]
     },
     "metadata": {},
     "output_type": "display_data"
    }
   ],
   "source": [
    "sns.boxplot(x='Dem_age', y='Scale_PSS10_UCLA_1', data=dados_sem_nulo, palette='hls')"
   ]
  },
  {
   "cell_type": "code",
   "execution_count": 65,
   "metadata": {},
   "outputs": [
    {
     "data": {
      "text/plain": [
       "<AxesSubplot:xlabel='Dem_age', ylabel='Scale_SLON_3'>"
      ]
     },
     "execution_count": 65,
     "metadata": {},
     "output_type": "execute_result"
    },
    {
     "data": {
      "image/png": "[encoded data removed]",
      "text/plain": [
       "<Figure size 1440x576 with 1 Axes>"
      ]
     },
     "metadata": {},
     "output_type": "display_data"
    }
   ],
   "source": [
    "sns.boxplot(x='Dem_age', y='Scale_SLON_3', data=dados_sem_nulo, palette='hls')"
   ]
  },
  {
   "cell_type": "markdown",
   "metadata": {},
   "source": [
    "Analisando os gráficos acima, conseguimos entender que os jovens foram muitos afetados pela pandemia de acordo com a medição da escala UCLA e SLON."
   ]
  },
  {
   "cell_type": "markdown",
   "metadata": {},
   "source": [
    "Gráficos sobre Scale_PSS10_UCLA_1\n",
    "="
   ]
  },
  {
   "cell_type": "code",
   "execution_count": 69,
   "metadata": {},
   "outputs": [
    {
     "data": {
      "text/plain": [
       "<AxesSubplot:xlabel='Scale_PSS10_UCLA_1', ylabel='Dem_isolation_adults'>"
      ]
     },
     "execution_count": 69,
     "metadata": {},
     "output_type": "execute_result"
    },
    {
     "data": {
      "image/png": "[encoded data removed]",
      "text/plain": [
       "<Figure size 1440x576 with 1 Axes>"
      ]
     },
     "metadata": {},
     "output_type": "display_data"
    }
   ],
   "source": [
    "sns.boxplot(x='Scale_PSS10_UCLA_1', y='Dem_isolation_adults', data=dados_sem_nulo, palette='hls')"
   ]
  },
  {
   "cell_type": "code",
   "execution_count": 71,
   "metadata": {},
   "outputs": [
    {
     "data": {
      "text/plain": [
       "<AxesSubplot:xlabel='Scale_PSS10_UCLA_1', ylabel='count'>"
      ]
     },
     "execution_count": 71,
     "metadata": {},
     "output_type": "execute_result"
    },
    {
     "data": {
      "image/png": "[encoded data removed]",
      "text/plain": [
       "<Figure size 1440x576 with 1 Axes>"
      ]
     },
     "metadata": {},
     "output_type": "display_data"
    }
   ],
   "source": [
    "sns.countplot(x='Scale_PSS10_UCLA_1',data=dados_sem_nulo, palette='hls')"
   ]
  },
  {
   "cell_type": "markdown",
   "metadata": {},
   "source": [
    "Analisando ambos gráficos acima, concluimos que muitas pessoas adultas sentiram um impacto em suas vidas durante a pandemia, pois a média maior da escala é de 3.0. "
   ]
  },
  {
   "cell_type": "markdown",
   "metadata": {},
   "source": [
    "Gráfico heatmap \n",
    "="
   ]
  },
  {
   "cell_type": "code",
   "execution_count": 78,
   "metadata": {},
   "outputs": [
    {
     "data": {
      "text/html": [
       "<div>\n",
       "<style scoped>\n",
       "    .dataframe tbody tr th:only-of-type {\n",
       "        vertical-align: middle;\n",
       "    }\n",
       "\n",
       "    .dataframe tbody tr th {\n",
       "        vertical-align: top;\n",
       "    }\n",
       "\n",
       "    .dataframe thead th {\n",
       "        text-align: right;\n",
       "    }\n",
       "</style>\n",
       "<table border=\"1\" class=\"dataframe\">\n",
       "  <thead>\n",
       "    <tr style=\"text-align: right;\">\n",
       "      <th></th>\n",
       "      <th>Dem_age</th>\n",
       "      <th>Dem_gender</th>\n",
       "      <th>Dem_riskgroup</th>\n",
       "      <th>Dem_isolation_adults</th>\n",
       "      <th>Scale_PSS10_UCLA_1</th>\n",
       "      <th>Scale_SLON_3</th>\n",
       "    </tr>\n",
       "  </thead>\n",
       "  <tbody>\n",
       "    <tr>\n",
       "      <th>0</th>\n",
       "      <td>48</td>\n",
       "      <td>Female</td>\n",
       "      <td>Yes</td>\n",
       "      <td>1.0</td>\n",
       "      <td>2.0</td>\n",
       "      <td>3.0</td>\n",
       "    </tr>\n",
       "    <tr>\n",
       "      <th>1</th>\n",
       "      <td>36</td>\n",
       "      <td>Female</td>\n",
       "      <td>Yes</td>\n",
       "      <td>1.0</td>\n",
       "      <td>2.0</td>\n",
       "      <td>1.0</td>\n",
       "    </tr>\n",
       "    <tr>\n",
       "      <th>2</th>\n",
       "      <td>45</td>\n",
       "      <td>Female</td>\n",
       "      <td>Yes</td>\n",
       "      <td>1.0</td>\n",
       "      <td>2.0</td>\n",
       "      <td>3.0</td>\n",
       "    </tr>\n",
       "    <tr>\n",
       "      <th>3</th>\n",
       "      <td>35</td>\n",
       "      <td>Female</td>\n",
       "      <td>Yes</td>\n",
       "      <td>1.0</td>\n",
       "      <td>4.0</td>\n",
       "      <td>2.0</td>\n",
       "    </tr>\n",
       "    <tr>\n",
       "      <th>4</th>\n",
       "      <td>46</td>\n",
       "      <td>Female</td>\n",
       "      <td>Yes</td>\n",
       "      <td>1.0</td>\n",
       "      <td>3.0</td>\n",
       "      <td>3.0</td>\n",
       "    </tr>\n",
       "  </tbody>\n",
       "</table>\n",
       "</div>"
      ],
      "text/plain": [
       "   Dem_age Dem_gender Dem_riskgroup  Dem_isolation_adults  Scale_PSS10_UCLA_1  \\\n",
       "0       48     Female           Yes                   1.0                 2.0   \n",
       "1       36     Female           Yes                   1.0                 2.0   \n",
       "2       45     Female           Yes                   1.0                 2.0   \n",
       "3       35     Female           Yes                   1.0                 4.0   \n",
       "4       46     Female           Yes                   1.0                 3.0   \n",
       "\n",
       "   Scale_SLON_3  \n",
       "0           3.0  \n",
       "1           1.0  \n",
       "2           3.0  \n",
       "3           2.0  \n",
       "4           3.0  "
      ]
     },
     "execution_count": 78,
     "metadata": {},
     "output_type": "execute_result"
    }
   ],
   "source": [
    "#separando os dados que utilizaremos no gráfico heatmap, onde queremos demonstrar apartir do gênero, idade  e grupo de risco utilizando as escalas de medição UCLA e SLON\n",
    "Dados_tratados = dados_sem_nulo.drop(['Dem_edu', 'Dem_employment', 'Dem_maritalstatus', 'Dem_islolation', 'PSS10_avg', 'SLON3_avg',  'RecordedDate','Country', 'Dem_state', 'Dem_isolation_kids'], 1)\n",
    "Dados_tratados.head()"
   ]
  },
  {
   "cell_type": "code",
   "execution_count": 79,
   "metadata": {},
   "outputs": [
    {
     "data": {
      "text/plain": [
       "<AxesSubplot:>"
      ]
     },
     "execution_count": 79,
     "metadata": {},
     "output_type": "execute_result"
    },
    {
     "data": {
      "image/png": "[encoded data removed]",
      "text/plain": [
       "<Figure size 1440x576 with 2 Axes>"
      ]
     },
     "metadata": {},
     "output_type": "display_data"
    }
   ],
   "source": [
    "sns.heatmap(Dados_tratados.corr())  "
   ]
  },
  {
   "cell_type": "markdown",
   "metadata": {},
   "source": [
    "Podemos analisar o gráfico acima, que a idade é um fator muito determinante para se a pessoa foi afetade ou não.\n",
    "\n",
    "Mostrando que a coluna SLON e PSS são as variáveis que tem mais relação."
   ]
  },
  {
   "cell_type": "markdown",
   "metadata": {},
   "source": [
    "Aprendizado de Máquina\n",
    "="
   ]
  },
  {
   "cell_type": "code",
   "execution_count": 36,
   "metadata": {},
   "outputs": [],
   "source": [
    "#Bibliotecas para trabalhar com aprendizado de máquina\n",
    "from sklearn.model_selection import train_test_split\n",
    "from sklearn.neighbors import KNeighborsClassifier\n",
    "from sklearn.metrics import classification_report\n",
    "from sklearn.metrics import confusion_matrix\n",
    "from sklearn.metrics import confusion_matrix, ConfusionMatrixDisplay\n",
    "from sklearn.metrics import f1_score, accuracy_score, precision_score, recall_score, classification_report"
   ]
  },
  {
   "cell_type": "markdown",
   "metadata": {},
   "source": [
    "Nosso objetivo é treinar o algoritmo KNN para ser capaz de distinguir as escalas de stresse e solidão (Scale_SLON_3)"
   ]
  },
  {
   "cell_type": "markdown",
   "metadata": {},
   "source": [
    "Precisamos escolher algumas variáveis para justificar os valores da escala SLON3, para isso escolheremos as variáveis númericas que fazem ela obter o resultado"
   ]
  },
  {
   "cell_type": "code",
   "execution_count": 34,
   "metadata": {},
   "outputs": [],
   "source": [
    "# Escolhendo as colunas preditivas e alvo\n",
    "# Vamos dropar as colunas categóricas que não vamos utilizar para nossa métrica e deixar somente as númericas precisas\n",
    "x = dados_sem_nulo.drop(columns = ['RecordedDate','Dem_edu', 'Dem_gender','Dem_employment','Country','Dem_state',\n",
    "                                     'Dem_maritalstatus','SLON3_avg', 'PSS10_avg','Dem_riskgroup','Dem_islolation',])\n",
    "y = dados_sem_nulo['Scale_SLON_3']         # Classe alvo\n",
    "\n",
    "# Dividindo conjunto de treinamento e conjunto de teste para teste com 30%\n",
    "x_train, x_test, y_train, y_test = train_test_split(x, y, test_size = 0.3, random_state = 23)"
   ]
  },
  {
   "cell_type": "code",
   "execution_count": 30,
   "metadata": {},
   "outputs": [
    {
     "data": {
      "text/html": [
       "<div>\n",
       "<style scoped>\n",
       "    .dataframe tbody tr th:only-of-type {\n",
       "        vertical-align: middle;\n",
       "    }\n",
       "\n",
       "    .dataframe tbody tr th {\n",
       "        vertical-align: top;\n",
       "    }\n",
       "\n",
       "    .dataframe thead th {\n",
       "        text-align: right;\n",
       "    }\n",
       "</style>\n",
       "<table border=\"1\" class=\"dataframe\">\n",
       "  <thead>\n",
       "    <tr style=\"text-align: right;\">\n",
       "      <th></th>\n",
       "      <th>Dem_age</th>\n",
       "      <th>Dem_isolation_adults</th>\n",
       "      <th>Dem_isolation_kids</th>\n",
       "      <th>Scale_PSS10_UCLA_1</th>\n",
       "      <th>Scale_SLON_3</th>\n",
       "    </tr>\n",
       "  </thead>\n",
       "  <tbody>\n",
       "    <tr>\n",
       "      <th>84322</th>\n",
       "      <td>18</td>\n",
       "      <td>3.0</td>\n",
       "      <td>0.0</td>\n",
       "      <td>3.0</td>\n",
       "      <td>4.0</td>\n",
       "    </tr>\n",
       "    <tr>\n",
       "      <th>96209</th>\n",
       "      <td>26</td>\n",
       "      <td>3.0</td>\n",
       "      <td>0.0</td>\n",
       "      <td>5.0</td>\n",
       "      <td>5.0</td>\n",
       "    </tr>\n",
       "    <tr>\n",
       "      <th>63223</th>\n",
       "      <td>18</td>\n",
       "      <td>0.0</td>\n",
       "      <td>0.0</td>\n",
       "      <td>2.0</td>\n",
       "      <td>4.0</td>\n",
       "    </tr>\n",
       "    <tr>\n",
       "      <th>53817</th>\n",
       "      <td>38</td>\n",
       "      <td>1.0</td>\n",
       "      <td>0.0</td>\n",
       "      <td>3.0</td>\n",
       "      <td>5.0</td>\n",
       "    </tr>\n",
       "    <tr>\n",
       "      <th>38391</th>\n",
       "      <td>65</td>\n",
       "      <td>3.0</td>\n",
       "      <td>0.0</td>\n",
       "      <td>3.0</td>\n",
       "      <td>4.0</td>\n",
       "    </tr>\n",
       "    <tr>\n",
       "      <th>...</th>\n",
       "      <td>...</td>\n",
       "      <td>...</td>\n",
       "      <td>...</td>\n",
       "      <td>...</td>\n",
       "      <td>...</td>\n",
       "    </tr>\n",
       "    <tr>\n",
       "      <th>44277</th>\n",
       "      <td>29</td>\n",
       "      <td>0.0</td>\n",
       "      <td>0.0</td>\n",
       "      <td>3.0</td>\n",
       "      <td>2.0</td>\n",
       "    </tr>\n",
       "    <tr>\n",
       "      <th>108189</th>\n",
       "      <td>30</td>\n",
       "      <td>1.0</td>\n",
       "      <td>0.0</td>\n",
       "      <td>3.0</td>\n",
       "      <td>4.0</td>\n",
       "    </tr>\n",
       "    <tr>\n",
       "      <th>15554</th>\n",
       "      <td>24</td>\n",
       "      <td>1.0</td>\n",
       "      <td>0.0</td>\n",
       "      <td>1.0</td>\n",
       "      <td>4.0</td>\n",
       "    </tr>\n",
       "    <tr>\n",
       "      <th>116496</th>\n",
       "      <td>53</td>\n",
       "      <td>1.0</td>\n",
       "      <td>0.0</td>\n",
       "      <td>2.0</td>\n",
       "      <td>4.0</td>\n",
       "    </tr>\n",
       "    <tr>\n",
       "      <th>14830</th>\n",
       "      <td>41</td>\n",
       "      <td>0.0</td>\n",
       "      <td>1.0</td>\n",
       "      <td>1.0</td>\n",
       "      <td>4.0</td>\n",
       "    </tr>\n",
       "  </tbody>\n",
       "</table>\n",
       "<p>58142 rows × 5 columns</p>\n",
       "</div>"
      ],
      "text/plain": [
       "        Dem_age  Dem_isolation_adults  Dem_isolation_kids  Scale_PSS10_UCLA_1  \\\n",
       "84322        18                   3.0                 0.0                 3.0   \n",
       "96209        26                   3.0                 0.0                 5.0   \n",
       "63223        18                   0.0                 0.0                 2.0   \n",
       "53817        38                   1.0                 0.0                 3.0   \n",
       "38391        65                   3.0                 0.0                 3.0   \n",
       "...         ...                   ...                 ...                 ...   \n",
       "44277        29                   0.0                 0.0                 3.0   \n",
       "108189       30                   1.0                 0.0                 3.0   \n",
       "15554        24                   1.0                 0.0                 1.0   \n",
       "116496       53                   1.0                 0.0                 2.0   \n",
       "14830        41                   0.0                 1.0                 1.0   \n",
       "\n",
       "        Scale_SLON_3  \n",
       "84322            4.0  \n",
       "96209            5.0  \n",
       "63223            4.0  \n",
       "53817            5.0  \n",
       "38391            4.0  \n",
       "...              ...  \n",
       "44277            2.0  \n",
       "108189           4.0  \n",
       "15554            4.0  \n",
       "116496           4.0  \n",
       "14830            4.0  \n",
       "\n",
       "[58142 rows x 5 columns]"
      ]
     },
     "execution_count": 30,
     "metadata": {},
     "output_type": "execute_result"
    }
   ],
   "source": [
    "x_train  #deixamos somentes as numéricas necessárias como podemos vemos"
   ]
  },
  {
   "cell_type": "code",
   "execution_count": 35,
   "metadata": {},
   "outputs": [
    {
     "name": "stdout",
     "output_type": "stream",
     "text": [
      "              precision    recall  f1-score   support\n",
      "\n",
      "         1.0       0.98      0.99      0.99      3835\n",
      "         2.0       0.98      0.98      0.98      5478\n",
      "         3.0       0.97      0.99      0.98      7345\n",
      "         4.0       0.96      0.97      0.96      5271\n",
      "         5.0       1.00      0.93      0.96      2989\n",
      "\n",
      "    accuracy                           0.98     24918\n",
      "   macro avg       0.98      0.97      0.97     24918\n",
      "weighted avg       0.98      0.98      0.98     24918\n",
      "\n"
     ]
    }
   ],
   "source": [
    "# Passo 2 - Treinar o Classificador\n",
    "knn = KNeighborsClassifier(n_neighbors=4) # Criando classificador  com k=4\n",
    "knn.fit(x_train, y_train) # Treinamos o classificador passando apenas o conjunto de dados de treinamento \n",
    "\n",
    "# Passo 3 - Testar o Classificador\n",
    "y_predicoes = knn.predict(x_test) \n",
    "\n",
    "# Metricas de precisão, revocação, f1-score e acurácia.\n",
    "print(classification_report(y_test, y_predicoes))"
   ]
  },
  {
   "cell_type": "markdown",
   "metadata": {},
   "source": [
    "Conseguimos uma acurácia de 98% como podemos ver. Vamos demonstrar isso em uma matriz de confusão para deixarmos mais visível."
   ]
  },
  {
   "cell_type": "code",
   "execution_count": 86,
   "metadata": {},
   "outputs": [],
   "source": [
    "from sklearn.model_selection import StratifiedKFold"
   ]
  },
  {
   "cell_type": "code",
   "execution_count": 85,
   "metadata": {},
   "outputs": [
    {
     "data": {
      "image/png": "[encoded data removed]",
      "text/plain": [
       "<Figure size 1440x576 with 2 Axes>"
      ]
     },
     "metadata": {},
     "output_type": "display_data"
    }
   ],
   "source": [
    "from sklearn.model_selection import cross_val_predict\n",
    "from sklearn.metrics import confusion_matrix\n",
    "cv = StratifiedKFold(n_splits = 5, shuffle = True)\n",
    "y_pred = cross_val_predict(KNN_model, x_train, y_train, cv = cv)\n",
    "fig, ax = plt.subplots()\n",
    "sns.heatmap(confusion_matrix(y_train, y_pred), annot=True, \n",
    "            ax=ax, fmt='d', cmap='Reds')\n",
    "ax.set_title(\"Matriz de Confusão\", fontsize=18)\n",
    "ax.set_ylabel(\"True label\")\n",
    "ax.set_xlabel(\"Predicted Label\")\n",
    "plt.tight_layout()"
   ]
  },
  {
   "cell_type": "markdown",
   "metadata": {},
   "source": [
    "Nesse caso a matriz de confusão deixa bem claro os falsos e positivos, podendo analisar por exemplo quando batemos a escala 1 com 0, temos 161 classificados como 0, mas quando olhamos 1 com 1 vemos um grande número de acertos: 12498"
   ]
  },
  {
   "cell_type": "code",
   "execution_count": null,
   "metadata": {},
   "outputs": [],
   "source": []
  }
 ],
 "metadata": {
  "kernelspec": {
   "display_name": "Python 3",
   "language": "python",
   "name": "python3"
  },
  "language_info": {
   "codemirror_mode": {
    "name": "ipython",
    "version": 3
   },
   "file_extension": ".py",
   "mimetype": "text/x-python",
   "name": "python",
   "nbconvert_exporter": "python",
   "pygments_lexer": "ipython3",
   "version": "3.8.5"
  }
 },
 "nbformat": 4,
 "nbformat_minor": 4
}
